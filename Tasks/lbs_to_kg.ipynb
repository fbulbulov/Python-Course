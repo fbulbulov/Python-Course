# -*- coding: utf-8 -*-
"""
@author: Farrukh Bulbulov
"""

weight_lbs= input('Weight (lbs):')
weight_kg = int(weight_lbs)*0.45
print ("Weight in (kg):", weight_kg)