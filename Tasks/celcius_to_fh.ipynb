# -*- coding: utf-8 -*-
"""
Created on Fri Mar 19 15:14:54 2021

@author: Farrukh Bulbulov
"""
celcius= input('Enter the current C degree: ')
fahrenheit = (int(celcius) * 9/5) +32
print ("Fahrenheit degree:", fahrenheit)