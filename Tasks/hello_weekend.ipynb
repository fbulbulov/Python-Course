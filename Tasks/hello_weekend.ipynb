# -*- coding: utf-8 -*-
"""
Created on Fri Mar 19 15:32:17 2021

@author: Farrukh Bulbulov
"""
print ("hello weekend")
